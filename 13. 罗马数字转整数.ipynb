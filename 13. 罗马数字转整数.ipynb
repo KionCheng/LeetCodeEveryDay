{
 "cells": [
  {
   "cell_type": "markdown",
   "metadata": {},
   "source": [
    "# 13. 罗马数字转整数\n",
    "字符          数值\n",
    "I             1\n",
    "V             5\n",
    "X             10\n",
    "L             50\n",
    "C             100\n",
    "D             500\n",
    "M             1000\n",
    "特别的：\n",
    "+ I 可以放在 V (5) 和 X (10) 的左边，来表示 4 和 9。\n",
    "+ X 可以放在 L (50) 和 C (100) 的左边，来表示 40 和 90。 \n",
    "+ C 可以放在 D (500) 和 M (1000) 的左边，来表示 400 和 900。"
   ]
  },
  {
   "cell_type": "markdown",
   "metadata": {},
   "source": [
    "## 第一个想法\n",
    "字符存入字典，再设置一个标志位字典，如果标志位上升，则累加时添加其相反数。"
   ]
  },
  {
   "cell_type": "code",
   "execution_count": 12,
   "metadata": {},
   "outputs": [
    {
     "name": "stdout",
     "output_type": "stream",
     "text": [
      "4\n"
     ]
    }
   ],
   "source": [
    "class Solution:\n",
    "\n",
    "    def romanToInt(self, s: str) -> int:  \n",
    "        roman_dict = {'I':1,'V':5,'X':10,'L':50,'C':100,'D':500,'M':1000}\n",
    "        flag_dict = {'I':0,'V':1,'X':1,'L':2,'C':2,'D':3,'M':3}\n",
    "        sum = 0\n",
    "        temp_flag = flag_dict[s[-1]]  \n",
    "        for index,i in enumerate(reversed(s)):\n",
    "            if flag_dict[i] >= temp_flag:\n",
    "                sum = sum + roman_dict[i]\n",
    "            else:\n",
    "                sum = sum - roman_dict[i]\n",
    "            temp_flag = flag_dict[i]\n",
    "        return sum\n",
    "if __name__ == '__main__':\n",
    "    P = Solution()\n",
    "    result = P.romanToInt('XI')\n",
    "    print(result)             "
   ]
  },
  {
   "cell_type": "markdown",
   "metadata": {},
   "source": [
    "### 总结：\n",
    "    执行用时：48 ms, 在所有 Python3 提交中击败了92.45%的用户\n",
    "    内存消耗：15 MB, 在所有 Python3 提交中击败了7.90%的用户\n"
   ]
  },
  {
   "cell_type": "markdown",
   "metadata": {},
   "source": [
    "## 优化\n",
    "    不需要flag_dict"
   ]
  },
  {
   "cell_type": "code",
   "execution_count": 42,
   "metadata": {},
   "outputs": [
    {
     "name": "stdout",
     "output_type": "stream",
     "text": [
      "19\n"
     ]
    }
   ],
   "source": [
    "class Solution:\n",
    "    def romanToInt(self, s: str) -> int:  \n",
    "        roman_dict = {'I':1,'V':5,'X':10,'L':50,'C':100,'D':500,'M':1000}\n",
    "        sum = 0\n",
    "        temp_roman = roman_dict[s[-1]]  \n",
    "        for index,i in enumerate(reversed(s)):\n",
    "            if roman_dict[i] >= temp_roman:\n",
    "                sum = sum + roman_dict[i]\n",
    "            else:\n",
    "                sum = sum - roman_dict[i]\n",
    "            temp_roman = roman_dict[i]\n",
    "        return sum\n",
    "    \n",
    "if __name__ == '__main__':\n",
    "    P = Solution()\n",
    "    result = P.romanToInt('XIX')\n",
    "    print(result)"
   ]
  },
  {
   "cell_type": "markdown",
   "metadata": {},
   "source": [
    "总结：\n",
    "    空间耗费降低了一丢丢，耗时增加了？？？这真的算优化吗"
   ]
  },
  {
   "cell_type": "markdown",
   "metadata": {},
   "source": [
    "## 抄来的想法一：\n",
    "    既然追求刺激，那就贯彻到底咯，直接枚举出所有特殊的两位情况\n",
    "    在遍历数组时，get存在的"
   ]
  },
  {
   "cell_type": "code",
   "execution_count": 41,
   "metadata": {},
   "outputs": [
    {
     "name": "stdout",
     "output_type": "stream",
     "text": [
      "19\n"
     ]
    }
   ],
   "source": [
    "class Solution:\n",
    "    def romanToInt(self, s: str) -> int:\n",
    "        d = {'I':1, 'IV':3, 'V':5, 'IX':8, 'X':10, 'XL':30, 'L':50, 'XC':80, 'C':100, 'CD':300, 'D':500, 'CM':800, 'M':1000}\n",
    "        return sum(d.get(s[max(i-1, 0):i+1], d[n]) for i, n in enumerate(s))\n",
    "if __name__ == '__main__':\n",
    "    P = Solution()\n",
    "    result = P.romanToInt('XIX')\n",
    "    print(result)"
   ]
  },
  {
   "cell_type": "markdown",
   "metadata": {},
   "source": [
    "总结：\n",
    "1. 一顿操作猛如虎，一看性能差得一批\n",
    "2. 思路优秀，代码工程性极差"
   ]
  },
  {
   "cell_type": "markdown",
   "metadata": {},
   "source": [
    "## 关于dict.get()函数的研究\n",
    "\n",
    "dict.get(key, default=None)\n",
    "返回指定键的值，如果键不在字典中返回默认值 None 或者设置的默认值。"
   ]
  },
  {
   "cell_type": "code",
   "execution_count": 37,
   "metadata": {},
   "outputs": [
    {
     "name": "stdout",
     "output_type": "stream",
     "text": [
      "1\n",
      "None\n",
      "1\n",
      "X\n",
      "5\n"
     ]
    }
   ],
   "source": [
    "d = {'I':1, 'IV':3, 'V':5, 'IX':8, 'X':10, 'XL':30, 'L':50, 'XC':80, 'C':100, 'CD':300, 'D':500, 'CM':800, 'M':1000}\n",
    "print(d.get('I')) #1\n",
    "print(d.get('2')) #None\n",
    "print(d.get('I','2')) #1\n",
    "print(d.get('2','X'))\n",
    "print(d.get('V','X')) #5\n",
    "# print(d.get('1','2','X')) #TypeError: get expected at most 2 arguments, got 3"
   ]
  },
  {
   "cell_type": "code",
   "execution_count": 40,
   "metadata": {},
   "outputs": [
    {
     "ename": "TypeError",
     "evalue": "unsupported operand type(s) for +: 'int' and 'str'",
     "output_type": "error",
     "traceback": [
      "\u001b[1;31m---------------------------------------------------------------------------\u001b[0m",
      "\u001b[1;31mTypeError\u001b[0m                                 Traceback (most recent call last)",
      "\u001b[1;32m<ipython-input-40-ff8f53484f7f>\u001b[0m in \u001b[0;36m<module>\u001b[1;34m\u001b[0m\n\u001b[1;32m----> 1\u001b[1;33m \u001b[0msum\u001b[0m\u001b[1;33m(\u001b[0m\u001b[1;33m[\u001b[0m\u001b[1;34m's'\u001b[0m\u001b[1;33m,\u001b[0m\u001b[1;36m1\u001b[0m\u001b[1;33m,\u001b[0m\u001b[1;36m2\u001b[0m\u001b[1;33m]\u001b[0m\u001b[1;33m)\u001b[0m\u001b[1;33m\u001b[0m\u001b[1;33m\u001b[0m\u001b[0m\n\u001b[0m",
      "\u001b[1;31mTypeError\u001b[0m: unsupported operand type(s) for +: 'int' and 'str'"
     ]
    }
   ],
   "source": [
    "sum(['s',1,2])  "
   ]
  },
  {
   "cell_type": "code",
   "execution_count": null,
   "metadata": {},
   "outputs": [],
   "source": []
  }
 ],
 "metadata": {
  "kernelspec": {
   "display_name": "Python 3",
   "language": "python",
   "name": "python3"
  },
  "language_info": {
   "codemirror_mode": {
    "name": "ipython",
    "version": 3
   },
   "file_extension": ".py",
   "mimetype": "text/x-python",
   "name": "python",
   "nbconvert_exporter": "python",
   "pygments_lexer": "ipython3",
   "version": "3.8.3"
  }
 },
 "nbformat": 4,
 "nbformat_minor": 4
}
