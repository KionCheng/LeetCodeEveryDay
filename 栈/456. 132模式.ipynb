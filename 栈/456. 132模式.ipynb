{
 "cells": [
  {
   "cell_type": "markdown",
   "metadata": {
    "collapsed": true,
    "pycharm": {
     "name": "#%% md\n"
    }
   },
   "source": [
    "(需要复习)\n",
    "# 456. 132 模式\n",
    "给你一个整数数组 nums ，数组中共有 n 个整数。132 模式的子序列 由三个整数 nums[i]、nums[j] 和 nums[k] 组成，并同时满足：i < j < k 和 nums[i] < nums[k] < nums[j] 。\n",
    "如果 nums 中存在 132 模式的子序列 ，返回 true ；否则，返回 false 。\n",
    "\n",
    "**进阶**:很容易想到时间复杂度为 O(n^2) 的解决方案，你可以设计一个时间复杂度为 O(n logn) 或 O(n) 的解决方案吗？\n",
    "\n",
    "\n"
   ]
  },
  {
   "cell_type": "markdown",
   "source": [
    "## 想法一：暴力法"
   ],
   "metadata": {
    "collapsed": false,
    "pycharm": {
     "name": "#%% md\n"
    }
   }
  },
  {
   "cell_type": "code",
   "execution_count": 14,
   "outputs": [
    {
     "name": "stdout",
     "output_type": "stream",
     "text": [
      "True\n"
     ]
    }
   ],
   "source": [
    "class Solution:\n",
    "    def find132pattern(self, nums: list) -> bool:\n",
    "        len_num = len(nums)\n",
    "        i = nums[0]\n",
    "        for j in range(1,len_num):\n",
    "            for k in range(len_num-1,j,-1):\n",
    "                if i < nums[k] and nums[k] < nums[j]:\n",
    "                    return True\n",
    "            i = min(i, nums[j])\n",
    "        return False\n",
    "\n",
    "if __name__ == '__main__':\n",
    "    p = Solution()\n",
    "    print(p.find132pattern([-1,1,4,2]))"
   ],
   "metadata": {
    "collapsed": false,
    "pycharm": {
     "name": "#%%\n"
    }
   }
  },
  {
   "cell_type": "markdown",
   "source": [
    "## 想法二:\n",
    "\n",
    "单调栈"
   ],
   "metadata": {
    "collapsed": false
   }
  },
  {
   "cell_type": "code",
   "execution_count": null,
   "outputs": [],
   "source": [
    "class Solution:\n",
    "    def find132pattern(self, nums: list) -> bool:\n",
    "\n",
    "        if len(nums) < 3:\n",
    "            return False\n",
    "\n",
    "        maxList = []  # 最大值列表\n",
    "        minList = [nums[0], ]  # 最小值列表\n",
    "\n",
    "        for i in range(1, len(nums)):  # 最小值列表填满\n",
    "            minList.append(min(minList[i - 1], nums[i]))\n",
    "\n",
    "        for j in range(len(nums) - 1, 0, -1):  # 从后往前推\n",
    "            if nums[j] > minList[j]:  # b大于a就继续考虑\n",
    "                while maxList and maxList[-1] <= minList[j]:  # c列表里小于a的都删掉\n",
    "                    maxList.pop()\n",
    "                if maxList and maxList[-1] < nums[j]: # c列表里最大的数小于b，成立!\n",
    "                    return True\n",
    "                maxList.append(nums[j])  # b加进c列表里\n",
    "        return False"
   ],
   "metadata": {
    "collapsed": false,
    "pycharm": {
     "name": "#%%\n"
    }
   }
  },
  {
   "cell_type": "markdown",
   "source": [],
   "metadata": {
    "collapsed": false
   }
  }
 ],
 "metadata": {
  "kernelspec": {
   "name": "pycharm-8558a2eb",
   "language": "python",
   "display_name": "PyCharm (LeetCodeEveryDay)"
  },
  "language_info": {
   "codemirror_mode": {
    "name": "ipython",
    "version": 2
   },
   "file_extension": ".py",
   "mimetype": "text/x-python",
   "name": "python",
   "nbconvert_exporter": "python",
   "pygments_lexer": "ipython2",
   "version": "2.7.6"
  }
 },
 "nbformat": 4,
 "nbformat_minor": 0
}