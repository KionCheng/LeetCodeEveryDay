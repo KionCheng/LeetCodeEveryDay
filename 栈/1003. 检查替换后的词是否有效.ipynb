{
 "cells": [
  {
   "cell_type": "markdown",
   "metadata": {
    "collapsed": true,
    "pycharm": {
     "name": "#%% md\n"
    }
   },
   "source": [
    "# 1003. 检查替换后的词是否有效\n",
    "给你一个字符串 s ，请你判断它是否 有效 。\n",
    "字符串 s 有效 需要满足：假设开始有一个空字符串 t = \"\" ，你可以执行 任意次 下述操作将 t 转换为 s ：\n",
    "\n",
    "将字符串 \"abc\" 插入到 t 中的任意位置。形式上，t 变为 tleft + \"abc\" + tright，其中 t == tleft + tright 。注意，tleft 和 tright 可能为 空 。\n",
    "如果字符串 s 有效，则返回 true；否则，返回 false。"
   ]
  },
  {
   "cell_type": "markdown",
   "source": [
    "## 想法一：\n",
    "abc顺序出栈，非此顺序一律进栈，遍历完字符串若为空则true"
   ],
   "metadata": {
    "collapsed": false
   }
  },
  {
   "cell_type": "code",
   "execution_count": 32,
   "outputs": [
    {
     "name": "stdout",
     "output_type": "stream",
     "text": [
      "False\n"
     ]
    }
   ],
   "source": [
    "class Solution:\n",
    "    def isValid(self, s: str) -> bool:\n",
    "        stack = []\n",
    "        if not s:\n",
    "            return True\n",
    "        if s[0] != 'a':\n",
    "            return False\n",
    "\n",
    "        for i in s:\n",
    "            if stack[-3:] == ['a','b','c']:\n",
    "                del stack[-3:]\n",
    "            stack.append(i)\n",
    "\n",
    "\n",
    "        if not stack or stack == ['a','b','c']:\n",
    "            return True\n",
    "        else:\n",
    "            return False\n",
    "\n",
    "\n",
    "if __name__ == '__main__':\n",
    "    p = Solution()\n",
    "    print(p.isValid('cababc'))"
   ],
   "metadata": {
    "collapsed": false,
    "pycharm": {
     "name": "#%%\n"
    }
   }
  },
  {
   "cell_type": "code",
   "execution_count": 18,
   "outputs": [
    {
     "name": "stdout",
     "output_type": "stream",
     "text": [
      "['a', 'b', 'c']\n"
     ]
    }
   ],
   "source": [
    "str = ['a','b','c','d','e','f']\n",
    "\n",
    "if str[-3:] == ['d','e','f']:\n",
    "\n",
    "\n",
    "\n",
    "    print(str)"
   ],
   "metadata": {
    "collapsed": false,
    "pycharm": {
     "name": "#%%\n"
    }
   }
  },
  {
   "cell_type": "markdown",
   "source": [
    "## 想法二：\n",
    "不断replace abc直到无法replace。\n",
    "\n",
    "在本题环境下快很多。"
   ],
   "metadata": {
    "collapsed": false
   }
  },
  {
   "cell_type": "code",
   "execution_count": null,
   "outputs": [],
   "source": [
    "class Solution:\n",
    "    def isValid(self, S: str) -> bool:\n",
    "        while 'abc' in S:\n",
    "            S = S.replace('abc', '')\n",
    "        if len(S) == 0:\n",
    "            return True\n",
    "        else:\n",
    "            return False\n"
   ],
   "metadata": {
    "collapsed": false,
    "pycharm": {
     "name": "#%%\n"
    }
   }
  }
 ],
 "metadata": {
  "kernelspec": {
   "name": "pycharm-8558a2eb",
   "language": "python",
   "display_name": "PyCharm (LeetCodeEveryDay)"
  },
  "language_info": {
   "codemirror_mode": {
    "name": "ipython",
    "version": 2
   },
   "file_extension": ".py",
   "mimetype": "text/x-python",
   "name": "python",
   "nbconvert_exporter": "python",
   "pygments_lexer": "ipython2",
   "version": "2.7.6"
  }
 },
 "nbformat": 4,
 "nbformat_minor": 0
}