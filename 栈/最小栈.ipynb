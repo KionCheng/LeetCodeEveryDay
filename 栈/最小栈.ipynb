{
 "cells": [
  {
   "cell_type": "code",
   "execution_count": 13,
   "metadata": {
    "collapsed": true
   },
   "outputs": [
    {
     "name": "stdout",
     "output_type": "stream",
     "text": [
      "[-3, -1, -3]\n",
      "[-3, -3, -3]\n",
      "-3\n",
      "-1\n",
      "-3\n"
     ]
    }
   ],
   "source": [
    "class MinStack:\n",
    "\n",
    "    def __init__(self):\n",
    "        \"\"\"\n",
    "        initialize your data structure here.\n",
    "        \"\"\"\n",
    "        self.stack = []\n",
    "        self.minstack = []\n",
    "\n",
    "    def push(self, x: int) -> None:\n",
    "        self.stack.append(x)\n",
    "        if not self.minstack:\n",
    "            self.minstack.append(x)\n",
    "        else:\n",
    "            if self.minstack[-1] >= x:\n",
    "                self.minstack.append(x)\n",
    "            else:\n",
    "                self.minstack.append(self.minstack[-1])\n",
    "\n",
    "    def pop(self) -> None:\n",
    "        self.stack.pop()\n",
    "        self.minstack.pop()\n",
    "\n",
    "    def top(self) -> int:\n",
    "        return self.stack[-1]\n",
    "\n",
    "\n",
    "    def getMin(self) -> int:\n",
    "        return self.minstack[-1]\n",
    "\n",
    "\n",
    "if __name__ == '__main__':\n",
    "    minStack = MinStack()\n",
    "    minStack.push(-3)\n",
    "    minStack.push(-1)\n",
    "    minStack.push(-3)\n",
    "    print(minStack.stack)\n",
    "    print(minStack.minstack)\n",
    "    print(minStack.getMin())\n",
    "    minStack.pop()\n",
    "    print(minStack.top())\n",
    "    print(minStack.getMin())\n",
    "# Your MinStack object will be instantiated and called as such:\n",
    "# obj = MinStack()\n",
    "# obj.push(x)\n",
    "# obj.pop()\n",
    "# param_3 = obj.top()\n",
    "# param_4 = obj.getMin()"
   ]
  },
  {
   "cell_type": "code",
   "execution_count": 1,
   "outputs": [
    {
     "name": "stdout",
     "output_type": "stream",
     "text": [
      "[-3, -1, -3]\n",
      "[-3]\n",
      "-3\n",
      "-1\n"
     ]
    },
    {
     "ename": "IndexError",
     "evalue": "list index out of range",
     "output_type": "error",
     "traceback": [
      "\u001B[1;31m---------------------------------------------------------------------------\u001B[0m",
      "\u001B[1;31mIndexError\u001B[0m                                Traceback (most recent call last)",
      "\u001B[1;32m<ipython-input-1-eae9e7f4aaf2>\u001B[0m in \u001B[0;36m<module>\u001B[1;34m\u001B[0m\n\u001B[0;32m     28\u001B[0m     \u001B[0mminStack\u001B[0m\u001B[1;33m.\u001B[0m\u001B[0mpop\u001B[0m\u001B[1;33m(\u001B[0m\u001B[1;33m)\u001B[0m\u001B[1;33m\u001B[0m\u001B[1;33m\u001B[0m\u001B[0m\n\u001B[0;32m     29\u001B[0m     \u001B[0mprint\u001B[0m\u001B[1;33m(\u001B[0m\u001B[0mminStack\u001B[0m\u001B[1;33m.\u001B[0m\u001B[0mtop\u001B[0m\u001B[1;33m(\u001B[0m\u001B[1;33m)\u001B[0m\u001B[1;33m)\u001B[0m\u001B[1;33m\u001B[0m\u001B[1;33m\u001B[0m\u001B[0m\n\u001B[1;32m---> 30\u001B[1;33m     \u001B[0mprint\u001B[0m\u001B[1;33m(\u001B[0m\u001B[0mminStack\u001B[0m\u001B[1;33m.\u001B[0m\u001B[0mgetMin\u001B[0m\u001B[1;33m(\u001B[0m\u001B[1;33m)\u001B[0m\u001B[1;33m)\u001B[0m\u001B[1;33m\u001B[0m\u001B[1;33m\u001B[0m\u001B[0m\n\u001B[0m",
      "\u001B[1;32m<ipython-input-1-eae9e7f4aaf2>\u001B[0m in \u001B[0;36mgetMin\u001B[1;34m(self)\u001B[0m\n\u001B[0;32m     17\u001B[0m         \u001B[1;32mreturn\u001B[0m \u001B[0mself\u001B[0m\u001B[1;33m.\u001B[0m\u001B[0mstack\u001B[0m\u001B[1;33m[\u001B[0m\u001B[1;33m-\u001B[0m\u001B[1;36m1\u001B[0m\u001B[1;33m]\u001B[0m\u001B[1;33m\u001B[0m\u001B[1;33m\u001B[0m\u001B[0m\n\u001B[0;32m     18\u001B[0m     \u001B[1;32mdef\u001B[0m \u001B[0mgetMin\u001B[0m\u001B[1;33m(\u001B[0m\u001B[0mself\u001B[0m\u001B[1;33m)\u001B[0m \u001B[1;33m->\u001B[0m \u001B[0mint\u001B[0m\u001B[1;33m:\u001B[0m\u001B[1;33m\u001B[0m\u001B[1;33m\u001B[0m\u001B[0m\n\u001B[1;32m---> 19\u001B[1;33m         \u001B[1;32mreturn\u001B[0m \u001B[0mself\u001B[0m\u001B[1;33m.\u001B[0m\u001B[0mminstack\u001B[0m\u001B[1;33m[\u001B[0m\u001B[1;33m-\u001B[0m\u001B[1;36m1\u001B[0m\u001B[1;33m]\u001B[0m\u001B[1;33m\u001B[0m\u001B[1;33m\u001B[0m\u001B[0m\n\u001B[0m\u001B[0;32m     20\u001B[0m \u001B[1;32mif\u001B[0m \u001B[0m__name__\u001B[0m \u001B[1;33m==\u001B[0m \u001B[1;34m'__main__'\u001B[0m\u001B[1;33m:\u001B[0m\u001B[1;33m\u001B[0m\u001B[1;33m\u001B[0m\u001B[0m\n\u001B[0;32m     21\u001B[0m     \u001B[0mminStack\u001B[0m \u001B[1;33m=\u001B[0m \u001B[0mMinStack\u001B[0m\u001B[1;33m(\u001B[0m\u001B[1;33m)\u001B[0m\u001B[1;33m\u001B[0m\u001B[1;33m\u001B[0m\u001B[0m\n",
      "\u001B[1;31mIndexError\u001B[0m: list index out of range"
     ]
    }
   ],
   "source": [
    "class MinStack:\n",
    "    def __init__(self):\n",
    "        self.stack = []\n",
    "        self.minstack = []\n",
    "    def push(self, x: int) -> None:\n",
    "        self.stack.append(x)\n",
    "        if not self.minstack:\n",
    "            self.minstack.append(x)\n",
    "        else:\n",
    "            if self.minstack[-1] >= x:\n",
    "                self.minstack.append(x)\n",
    "    def pop(self) -> None:\n",
    "        x = self.stack.pop()\n",
    "        if x == self.minstack[-1]:\n",
    "            self.minstack.pop()\n",
    "    def top(self) -> int:\n",
    "        return self.stack[-1]\n",
    "    def getMin(self) -> int:\n",
    "        return self.minstack[-1]\n",
    "if __name__ == '__main__':\n",
    "    minStack = MinStack()\n",
    "    minStack.push(-3)\n",
    "    minStack.push(-1)\n",
    "    minStack.push(-3)\n",
    "    print(minStack.stack)\n",
    "    print(minStack.minstack)\n",
    "    print(minStack.getMin())\n",
    "    minStack.pop()\n",
    "    print(minStack.top())\n",
    "    print(minStack.getMin())"
   ],
   "metadata": {
    "collapsed": false,
    "pycharm": {
     "name": "#%%\n"
    }
   }
  },
  {
   "cell_type": "code",
   "execution_count": 5,
   "outputs": [
    {
     "name": "stdout",
     "output_type": "stream",
     "text": [
      "[0, 2, 0]\n",
      "-3\n",
      "-1\n",
      "-3\n"
     ]
    }
   ],
   "source": [
    "class MinStack:\n",
    "    def __init__(self):\n",
    "        self.stack = list()\n",
    "        self.min = int()\n",
    "\n",
    "    def push(self, x: int) -> None:\n",
    "        if not self.stack:\n",
    "            self.min = x\n",
    "            self.stack.append(0)\n",
    "        else:\n",
    "            compare = x - self.min\n",
    "            self.stack.append(compare)\n",
    "            if compare < 0:\n",
    "                self.min = x\n",
    "\n",
    "    def pop(self) -> None:\n",
    "        if self.stack[-1] < 0:\n",
    "            self.min = self.min - self.stack[-1]\n",
    "        self.stack.pop()\n",
    "    def top(self) -> int:\n",
    "        return self.stack[-1] + self.min\n",
    "    def getMin(self) -> int:\n",
    "        return self.min\n",
    "if __name__ == '__main__':\n",
    "    minStack = MinStack()\n",
    "    minStack.push(-3)\n",
    "    minStack.push(-1)\n",
    "    minStack.push(-3)\n",
    "    print(minStack.stack)\n",
    "    # print(minStack.minstack)\n",
    "    print(minStack.getMin())\n",
    "    minStack.pop()\n",
    "    print(minStack.top())\n",
    "    print(minStack.getMin())"
   ],
   "metadata": {
    "collapsed": false,
    "pycharm": {
     "name": "#%%\n"
    }
   }
  }
 ],
 "metadata": {
  "kernelspec": {
   "name": "pycharm-8558a2eb",
   "language": "python",
   "display_name": "PyCharm (LeetCodeEveryDay)"
  },
  "language_info": {
   "codemirror_mode": {
    "name": "ipython",
    "version": 2
   },
   "file_extension": ".py",
   "mimetype": "text/x-python",
   "name": "python",
   "nbconvert_exporter": "python",
   "pygments_lexer": "ipython2",
   "version": "2.7.6"
  }
 },
 "nbformat": 4,
 "nbformat_minor": 0
}