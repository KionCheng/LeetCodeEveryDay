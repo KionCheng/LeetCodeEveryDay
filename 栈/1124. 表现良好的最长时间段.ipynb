{
 "cells": [
  {
   "cell_type": "markdown",
   "metadata": {
    "collapsed": true,
    "pycharm": {
     "name": "#%% md\n"
    }
   },
   "source": [
    "# 1124. 表现良好的最长时间段\n",
    "给你一份工作时间表 hours，上面记录着某一位员工每天的工作小时数。\n",
    "\n",
    "我们认为当员工一天中的工作小时数大于 8 小时的时候，那么这一天就是「劳累的一天」。\n",
    "\n",
    "所谓「表现良好的时间段」，意味在这段时间内，「劳累的天数」是严格 大于「不劳累的天数」。\n",
    "\n",
    "请你返回「表现良好时间段」的最大长度。\n",
    "\n"
   ]
  },
  {
   "cell_type": "markdown",
   "source": [
    "## 想法一：\n",
    "计所有大于8的天数为1，所有小于等于8的天数为-1，寻找最长的子序列使得和为正数\n"
   ],
   "metadata": {
    "collapsed": false,
    "pycharm": {
     "name": "#%% md\n"
    }
   }
  },
  {
   "cell_type": "code",
   "execution_count": 24,
   "outputs": [
    {
     "name": "stdout",
     "output_type": "stream",
     "text": [
      "1\n"
     ]
    }
   ],
   "source": [
    "# 该解法错误\n",
    "\n",
    "class Solution:\n",
    "    def longestWPI(self, hours) -> int:\n",
    "        stack = []\n",
    "        strlen = 0\n",
    "        strsum = 0\n",
    "        max_len = 0\n",
    "        for i in hours:\n",
    "            if i > 8:\n",
    "                stack.append([1])\n",
    "                strlen += 1\n",
    "                strsum += 1\n",
    "            else:\n",
    "                if len(stack) > 1:\n",
    "                    stack.pop(-1)\n",
    "                    strlen += 1\n",
    "                else:\n",
    "                    stack = []\n",
    "                    strlen = 0\n",
    "            if strlen > max_len:\n",
    "                max_len = strlen\n",
    "\n",
    "\n",
    "        return max_len\n",
    "\n",
    "if __name__ == '__main__':\n",
    "    P = Solution()\n",
    "    print(P.longestWPI([6,0,6,9,6,9]))\n",
    "\n",
    "\n",
    "\n",
    "\n"
   ],
   "metadata": {
    "collapsed": false,
    "pycharm": {
     "name": "#%%\n"
    }
   }
  },
  {
   "cell_type": "markdown",
   "source": [
    "## 想法二：hash（摘抄自网络）"
   ],
   "metadata": {
    "collapsed": false,
    "pycharm": {
     "name": "#%% md\n"
    }
   }
  },
  {
   "cell_type": "code",
   "execution_count": null,
   "outputs": [],
   "source": [
    "class Solution:\n",
    "    def longestWPI(self, hours: list[int]) -> int:\n",
    "        if len(hours)==0:\n",
    "            return 0\n",
    "        idx = {0:0}\n",
    "        maxlen,min_flag,sum_flag=0,0,0\n",
    "        for i in range(1,len(hours)+1):\n",
    "            sum_flag=sum_flag+(1 if hours[i-1]>8 else -1)\n",
    "            if sum_flag < min_flag:\n",
    "                idx[sum_flag]=i\n",
    "                min_flag = sum_flag\n",
    "            if sum_flag-1 in idx:\n",
    "                maxlen = max(maxlen,i-idx[sum_flag-1])\n",
    "        if sum_flag>0:maxlen=len(hours)\n",
    "        return maxlen"
   ],
   "metadata": {
    "collapsed": false,
    "pycharm": {
     "name": "#%%\n"
    }
   }
  },
  {
   "cell_type": "code",
   "execution_count": 29,
   "outputs": [
    {
     "name": "stdout",
     "output_type": "stream",
     "text": [
      "2\n"
     ]
    }
   ],
   "source": [
    "class Solution:\n",
    "    def longestWPI(self, hours) -> int:\n",
    "        if len(hours)==0:\n",
    "            return 0\n",
    "        idx = {0:0}\n",
    "        maxlen,min_flag,sum_flag=0,0,0\n",
    "        for index,num in enumerate(hours):\n",
    "            \n",
    "            if num > 8:\n",
    "                sum_flag += 1\n",
    "            else:\n",
    "                sum_flag -= 1\n",
    "\n",
    "            if sum_flag < min_flag:\n",
    "                idx[sum_flag]=index\n",
    "                min_flag = sum_flag\n",
    "\n",
    "            if sum_flag-1 in idx:\n",
    "                maxlen = max(maxlen,index-idx[sum_flag-1])\n",
    "\n",
    "        if sum_flag > 0:\n",
    "            maxlen=len(hours)\n",
    "        return maxlen\n",
    "\n",
    "if __name__ == '__main__':\n",
    "    P = Solution()\n",
    "    print(P.longestWPI([9,9,6,0,6,6,9]))"
   ],
   "metadata": {
    "collapsed": false,
    "pycharm": {
     "name": "#%%\n"
    }
   }
  }
 ],
 "metadata": {
  "kernelspec": {
   "name": "pycharm-8558a2eb",
   "language": "python",
   "display_name": "PyCharm (LeetCodeEveryDay)"
  },
  "language_info": {
   "codemirror_mode": {
    "name": "ipython",
    "version": 2
   },
   "file_extension": ".py",
   "mimetype": "text/x-python",
   "name": "python",
   "nbconvert_exporter": "python",
   "pygments_lexer": "ipython2",
   "version": "2.7.6"
  }
 },
 "nbformat": 4,
 "nbformat_minor": 0
}