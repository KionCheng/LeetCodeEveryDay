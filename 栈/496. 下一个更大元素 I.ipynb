{
 "cells": [
  {
   "cell_type": "markdown",
   "metadata": {
    "collapsed": true,
    "pycharm": {
     "name": "#%% md\n"
    }
   },
   "source": [
    "# 496. 下一个更大元素 I\n",
    "给你两个 没有重复元素 的数组 nums1 和 nums2 ，其中nums1 是 nums2 的子集。\n",
    "\n",
    "请你找出 nums1 中每个元素在 nums2 中的下一个比其大的值。\n",
    "\n",
    "nums1 中数字 x 的下一个更大元素是指 x 在 nums2 中对应位置的右边的第一个比 x 大的元素。如果不存在，对应位置输出 -1 。\n"
   ]
  },
  {
   "cell_type": "markdown",
   "source": [
    "## 想法一:暴力法\n",
    "没意思"
   ],
   "metadata": {
    "collapsed": false
   }
  },
  {
   "cell_type": "code",
   "execution_count": 6,
   "outputs": [
    {
     "name": "stdout",
     "output_type": "stream",
     "text": [
      "[3, -1]\n"
     ]
    }
   ],
   "source": [
    "class Solution:\n",
    "    def nextGreaterElement(self, nums1: list, nums2: list) -> list:\n",
    "        stack = []\n",
    "        len_num2 = len(nums2)\n",
    "        for i in nums1:\n",
    "            j = 0\n",
    "            while nums2[j] != i and j < len_num2:\n",
    "                j += 1\n",
    "            if j >= len_num2 - 1:\n",
    "                stack.append(-1)\n",
    "            else:\n",
    "                for k in range(j,len_num2):\n",
    "                    if nums2[k] > i:\n",
    "                        stack.append(nums2[k])\n",
    "                        break\n",
    "                    elif k == len_num2 -1:\n",
    "                        stack.append(-1)\n",
    "                    else:\n",
    "                        continue\n",
    "        return stack\n",
    "if __name__ == '__main__':\n",
    "    p = Solution()\n",
    "    print(p.nextGreaterElement(nums1 = [2,4], nums2 = [1,2,3,4]))"
   ],
   "metadata": {
    "collapsed": false,
    "pycharm": {
     "name": "#%%\n"
    }
   }
  },
  {
   "cell_type": "markdown",
   "source": [
    "## 想法二：\n",
    "对序列二进行遍历，记录每一个下一个更大元素组的序列num3"
   ],
   "metadata": {
    "collapsed": false
   }
  },
  {
   "cell_type": "code",
   "execution_count": 23,
   "outputs": [
    {
     "name": "stdout",
     "output_type": "stream",
     "text": [
      "[2, 2, 2, 1, 1]\n"
     ]
    }
   ],
   "source": [
    "class Solution:\n",
    "    def nextGreaterElement(self, nums1: list, nums2: list) -> list:\n",
    "        stack = []\n",
    "        len_num2 = len(nums2)\n",
    "        idx_list = [-1] * len_num2\n",
    "        # 逆序遍历nums2\n",
    "        for i in range(len_num2-1,-1,-1):\n",
    "            if nums2[i] < stack[-1]:\n",
    "                stack.append(nums2[i])\n",
    "            else:\n",
    "                j = stack[-1]\n",
    "                stack.append(j)\n",
    "        return stack\n",
    "\n",
    "if __name__ == '__main__':\n",
    "    p = Solution()\n",
    "    print(p.nextGreaterElement(nums1 = [2,4], nums2 = [2,1,4,2]))"
   ],
   "metadata": {
    "collapsed": false,
    "pycharm": {
     "name": "#%%\n"
    }
   }
  },
  {
   "cell_type": "markdown",
   "source": [
    "## 想法三：单调栈"
   ],
   "metadata": {
    "collapsed": false
   }
  },
  {
   "cell_type": "code",
   "execution_count": 21,
   "outputs": [
    {
     "name": "stdout",
     "output_type": "stream",
     "text": [
      "[4, 4, -1, -1]\n"
     ]
    }
   ],
   "source": [
    "class Solution:\n",
    "    def nextGreaterElement(self, nums1: list, nums2: list) -> list:\n",
    "        stack = []\n",
    "        idx_list = [-1] * len(nums2)\n",
    "        for i in range(len(nums2)-1, -1, -1):\n",
    "            while stack and nums2[i] >= stack[-1]:\n",
    "                stack.pop()\n",
    "            idx_list[i] = -1 if not stack else stack[-1]\n",
    "            stack.append(nums2[i])\n",
    "        # return idx_list\n",
    "        res = []\n",
    "        for i in nums1:\n",
    "            res.append(idx_list[nums2.index(i)])\n",
    "        return res\n",
    "\n",
    "if __name__ == '__main__':\n",
    "    p = Solution()\n",
    "    print(p.nextGreaterElement(nums1 = [2,4], nums2 = [2,1,4,2]))"
   ],
   "metadata": {
    "collapsed": false,
    "pycharm": {
     "name": "#%%\n"
    }
   }
  },
  {
   "cell_type": "markdown",
   "source": [
    "## 想法四：Hash字典"
   ],
   "metadata": {
    "collapsed": false
   }
  },
  {
   "cell_type": "code",
   "execution_count": null,
   "outputs": [],
   "source": [
    "class Solution:\n",
    "    def nextGreaterElement(self, nums1: list, nums2: list) -> list:\n",
    "        hash_dict = dict()\n",
    "        stack = []\n",
    "        for i in nums2:\n",
    "            while stack and i > stack[-1]:\n",
    "                hash_dict[stack.pop()] = i\n",
    "            stack.append(i)\n",
    "        return [hash_dict.get(i,-1) for i in nums1]\n",
    "\n",
    "if __name__ == '__main__':\n",
    "    p = Solution()\n",
    "    print(p.nextGreaterElement(nums1 = [2,4], nums2 = [2,1,4,2]))"
   ],
   "metadata": {
    "collapsed": false,
    "pycharm": {
     "name": "#%%\n"
    }
   }
  }
 ],
 "metadata": {
  "kernelspec": {
   "name": "pycharm-8558a2eb",
   "language": "python",
   "display_name": "PyCharm (LeetCodeEveryDay)"
  },
  "language_info": {
   "codemirror_mode": {
    "name": "ipython",
    "version": 2
   },
   "file_extension": ".py",
   "mimetype": "text/x-python",
   "name": "python",
   "nbconvert_exporter": "python",
   "pygments_lexer": "ipython2",
   "version": "2.7.6"
  }
 },
 "nbformat": 4,
 "nbformat_minor": 0
}