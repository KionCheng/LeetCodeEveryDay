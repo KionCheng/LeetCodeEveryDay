{
 "cells": [
  {
   "cell_type": "markdown",
   "metadata": {},
   "source": [
    "# 20. 有效的括号\n",
    "给定一个只包括 '('，')'，'{'，'}'，'['，']' 的字符串 s ，判断字符串是否有效。\n",
    "\n",
    "有效字符串需满足：\n",
    "\n",
    "左括号必须用相同类型的右括号闭合。\n",
    "左括号必须以正确的顺序闭合。"
   ]
  },
  {
   "cell_type": "markdown",
   "metadata": {},
   "source": [
    "## 想法一：\n",
    "python没有现成的栈这一数据结构可以使用，考虑自己定义"
   ]
  },
  {
   "cell_type": "code",
   "execution_count": 1,
   "metadata": {},
   "outputs": [
    {
     "name": "stdout",
     "output_type": "stream",
     "text": [
      "False\n"
     ]
    }
   ],
   "source": [
    "class Stack(object):\n",
    "    def __init__(self):\n",
    "        self.items = []\n",
    "    def isEmpty(self):\n",
    "        return self.items == []\n",
    "    def peek(self):\n",
    "        if len(self.items) == 0:\n",
    "            return False\n",
    "        else:\n",
    "            return self.items[len(self.items) - 1]\n",
    "    def size(self):\n",
    "        return len(self.items)\n",
    "    def push(self, item):\n",
    "        self.items.append(item)\n",
    "    def pop(self):\n",
    "        return self.items.pop()\n",
    "\n",
    "class Solution:\n",
    "    def isValid(self, s: str) -> bool:\n",
    "        stack_s = Stack()\n",
    "        if len(s) % 2 != 0:\n",
    "            return False\n",
    "        for i in s:\n",
    "            if (i == ')' and stack_s.peek() == '(') or (i == ']' and stack_s.peek() == '[') or (i == '}' and stack_s.peek() == '{'):\n",
    "                stack_s.pop()\n",
    "            else:\n",
    "                stack_s.push(i)\n",
    "        return stack_s.isEmpty()\n",
    "\n",
    "\n",
    "\n",
    "if __name__ == '__main__':\n",
    "    S = Solution()\n",
    "    print(S.isValid(')('))"
   ]
  },
  {
   "cell_type": "markdown",
   "metadata": {},
   "source": [
    "## 说明：\n",
    "### corner cases: \n",
    "1. '}'\n",
    "2. '}{'\n",
    "### 排除方法：\n",
    "1. 奇数字符串直接返回false\n",
    "2. 空栈pop时，可能出错，解决方法可以考虑定于栈天生含有一个‘？’"
   ]
  },
  {
   "cell_type": "markdown",
   "metadata": {},
   "source": [
    "## 想法二:\n",
    "不定义栈，直接对数组进行操作"
   ]
  },
  {
   "cell_type": "code",
   "execution_count": 1,
   "metadata": {},
   "outputs": [
    {
     "name": "stdout",
     "output_type": "stream",
     "text": [
      "False\n"
     ]
    }
   ],
   "source": [
    "class Solution:\n",
    "    def isValid(self, s: str) -> bool:\n",
    "        if len(s) % 2 != 0:\n",
    "            return False\n",
    "        stack_s = ['?']\n",
    "        for i in s:\n",
    "            if (i == ')' and stack_s[-1] == '(') or (i == ']' and stack_s[-1] == '[') or (i == '}' and stack_s[-1] == '{'):\n",
    "                stack_s.pop()\n",
    "            else:\n",
    "                stack_s.append(i)\n",
    "        return stack_s == ['?']\n",
    "\n",
    "\n",
    "if __name__ == '__main__':\n",
    "    S = Solution()\n",
    "    print(S.isValid(')('))"
   ]
  },
  {
   "cell_type": "markdown",
   "metadata": {},
   "source": [
    "## 说明：\n",
    "性能优秀很多"
   ]
  },
  {
   "cell_type": "markdown",
   "metadata": {},
   "source": [
    "## 想法三\n",
    "对于成对的括号进行replace，性能奇差，但是思路独特"
   ]
  },
  {
   "cell_type": "code",
   "execution_count": null,
   "metadata": {},
   "outputs": [],
   "source": [
    "class Solution:\n",
    "    def isValid(self, s):\n",
    "        while '{}' in s or '()' in s or '[]' in s:\n",
    "            s = s.replace('{}', '')\n",
    "            s = s.replace('[]', '')\n",
    "            s = s.replace('()', '')\n",
    "        return s == ''\n",
    "    \n",
    "if __name__ == '__main__':\n",
    "    S = Solution()\n",
    "    print(S.isValid(')('))"
   ]
  },
  {
   "cell_type": "markdown",
   "metadata": {},
   "source": [
    "## 想法四：\n"
   ]
  },
  {
   "cell_type": "code",
   "execution_count": null,
   "metadata": {},
   "outputs": [],
   "source": [
    "class Solution:\n",
    "    def isValid(self, s: str) -> bool:\n",
    "        stack = ['?']\n",
    "        if len(s) % 2 != 0:\n",
    "            return False\n",
    "        for c in s:\n",
    "            if c in '([{':\n",
    "                stack.append(c)\n",
    "            else:\n",
    "                if not stack:\n",
    "                    return False\n",
    "                if c == ')':\n",
    "                    if stack[-1] != '(':\n",
    "                        return False\n",
    "                if c == ']':\n",
    "                    if stack[-1] != '[':\n",
    "                        return False\n",
    "                if c == '}':\n",
    "                    if stack[-1] != '{':\n",
    "                        return False\n",
    "        return stack == []"
   ]
  }
 ],
 "metadata": {
  "kernelspec": {
   "display_name": "Python 3",
   "language": "python",
   "name": "python3"
  },
  "language_info": {
   "codemirror_mode": {
    "name": "ipython",
    "version": 3
   },
   "file_extension": ".py",
   "mimetype": "text/x-python",
   "name": "python",
   "nbconvert_exporter": "python",
   "pygments_lexer": "ipython3",
   "version": "3.8.5"
  }
 },
 "nbformat": 4,
 "nbformat_minor": 4
}