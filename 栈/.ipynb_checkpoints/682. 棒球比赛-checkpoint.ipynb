{
 "cells": [
  {
   "cell_type": "markdown",
   "metadata": {},
   "source": [
    "# 682. 棒球比赛\n",
    "你现在是一场采用特殊赛制棒球比赛的记录员。这场比赛由若干回合组成，过去几回合的得分可能会影响以后几回合的得分。\n",
    "\n",
    "比赛开始时，记录是空白的。你会得到一个记录操作的字符串列表 ops，其中 ops[i] 是你需要记录的第 i 项操作，ops 遵循下述规则：\n",
    "\n",
    "整数 x - 表示本回合新获得分数 x\n",
    "\"+\" - 表示本回合新获得的得分是前两次得分的总和。题目数据保证记录此操作时前面总是存在两个有效的分数。\n",
    "\"D\" - 表示本回合新获得的得分是前一次得分的两倍。题目数据保证记录此操作时前面总是存在一个有效的分数。\n",
    "\"C\" - 表示前一次得分无效，将其从记录中移除。题目数据保证记录此操作时前面总是存在一个有效的分数。\n",
    "请你返回记录中所有得分的总和。"
   ]
  },
  {
   "cell_type": "code",
   "execution_count": 6,
   "metadata": {},
   "outputs": [
    {
     "name": "stdout",
     "output_type": "stream",
     "text": [
      "5\n"
     ]
    }
   ],
   "source": [
    "class Solution:\n",
    "    def calPoints(self, ops) -> int:\n",
    "        score = [0]\n",
    "        for i in ops:\n",
    "            if i == 'C':\n",
    "                score.pop()\n",
    "            elif i == 'D':\n",
    "                score.append(score[-1] * 2)\n",
    "            elif i == '+':\n",
    "                score.append(score[-1] + score[-2])\n",
    "            else:\n",
    "                score.append(int(i))\n",
    "            # print(score)\n",
    "        return sum(score)\n",
    "\n",
    "\n",
    "if __name__ == '__main__':\n",
    "    p = Solution()\n",
    "    print(p.calPoints([\"5\"]))\n"
   ]
  },
  {
   "cell_type": "markdown",
   "metadata": {},
   "source": [
    "EASY"
   ]
  }
 ],
 "metadata": {
  "kernelspec": {
   "display_name": "Python 3",
   "language": "python",
   "name": "python3"
  },
  "language_info": {
   "codemirror_mode": {
    "name": "ipython",
    "version": 3
   },
   "file_extension": ".py",
   "mimetype": "text/x-python",
   "name": "python",
   "nbconvert_exporter": "python",
   "pygments_lexer": "ipython3",
   "version": "3.8.5"
  }
 },
 "nbformat": 4,
 "nbformat_minor": 4
}
