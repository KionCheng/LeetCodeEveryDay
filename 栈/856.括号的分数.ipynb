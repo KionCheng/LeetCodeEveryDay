{
 "cells": [
  {
   "cell_type": "markdown",
   "metadata": {
    "collapsed": true,
    "pycharm": {
     "name": "#%% md\n"
    }
   },
   "source": []
  },
  {
   "cell_type": "code",
   "execution_count": 35,
   "outputs": [
    {
     "name": "stdout",
     "output_type": "stream",
     "text": [
      "6\n"
     ]
    }
   ],
   "source": [
    "class Solution:\n",
    "    def scoreOfParentheses(self, s: str):\n",
    "        depth_tmp=0\n",
    "        score=0\n",
    "        for i in range(len(s)-1):\n",
    "            if s[i]=='(':\n",
    "                depth_tmp+=1\n",
    "                # 说明到了最内层 此时depth_tmp是最内层的括号的深度\n",
    "                if s[i+1]==')':\n",
    "                    # score 是 最内层的 2^{depth_tmp-1}的求和\n",
    "                    score+=1<<(depth_tmp-1)\n",
    "            elif s[i]==')':\n",
    "                depth_tmp-=1\n",
    "            #print(s[0:i+1],score)\n",
    "        return score\n",
    "\n",
    "if __name__ == '__main__':\n",
    "    p = Solution()\n",
    "    print(p.scoreOfParentheses(\"(()(()))\"))"
   ],
   "metadata": {
    "collapsed": false,
    "pycharm": {
     "name": "#%%\n"
    }
   }
  },
  {
   "cell_type": "code",
   "execution_count": 31,
   "outputs": [
    {
     "name": "stdout",
     "output_type": "stream",
     "text": [
      "8\n"
     ]
    }
   ],
   "source": [
    "def scoreOfParentheses(s):\n",
    "    stack = []\n",
    "    for i in range(len(s)):\n",
    "        if s[i]=='(':\n",
    "            stack.append(0)\n",
    "        elif s[i]==')' and s[i-1]=='(':\n",
    "            stack[-1] = 1\n",
    "        elif s[i]==')' and s[i-1]==')':\n",
    "            inner = 0\n",
    "            while stack[-1]!=0:\n",
    "               inner+=stack.pop()\n",
    "            stack[-1] = 2*inner\n",
    "        print('i={} s[i]={} stack={}'.format(i, s[i], stack))\n",
    "    return sum(stack)\n",
    "\n",
    "\n",
    "if __name__ == '__main__':\n",
    "    p = Solution()\n",
    "    print(p.scoreOfParentheses(\"(()(()))\"))"
   ],
   "metadata": {
    "collapsed": false,
    "pycharm": {
     "name": "#%%\n"
    }
   }
  }
 ],
 "metadata": {
  "kernelspec": {
   "name": "pycharm-8558a2eb",
   "language": "python",
   "display_name": "PyCharm (LeetCodeEveryDay)"
  },
  "language_info": {
   "codemirror_mode": {
    "name": "ipython",
    "version": 2
   },
   "file_extension": ".py",
   "mimetype": "text/x-python",
   "name": "python",
   "nbconvert_exporter": "python",
   "pygments_lexer": "ipython2",
   "version": "2.7.6"
  }
 },
 "nbformat": 4,
 "nbformat_minor": 0
}