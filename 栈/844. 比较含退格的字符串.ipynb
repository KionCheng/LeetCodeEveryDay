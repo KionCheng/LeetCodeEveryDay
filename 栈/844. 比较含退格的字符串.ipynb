{
 "cells": [
  {
   "cell_type": "markdown",
   "metadata": {},
   "source": [
    "# 844. 比较含退格的字符串\n",
    "给定 S 和 T 两个字符串，当它们分别被输入到空白的文本编辑器后，判断二者是否相等，并返回结果。 # 代表退格字符。\n",
    "**注意：如果对空文本输入退格字符，文本继续为空。**"
   ]
  },
  {
   "cell_type": "code",
   "execution_count": 1,
   "metadata": {},
   "outputs": [
    {
     "name": "stdout",
     "output_type": "stream",
     "text": [
      "True\n"
     ]
    }
   ],
   "source": [
    "class Solution:\n",
    "    def backspaceCompare(self, S: str, T: str) -> bool:\n",
    "        str_s = []\n",
    "        str_t = []\n",
    "        for i in S:\n",
    "            if i == '#':\n",
    "                if str_s:\n",
    "                    str_s.pop()\n",
    "                else:\n",
    "                    continue\n",
    "            else:\n",
    "                str_s.append(i)\n",
    "        for j in T:\n",
    "            if j == '#':\n",
    "                if str_t:\n",
    "                    str_t.pop()\n",
    "                else:\n",
    "                    continue\n",
    "            else:\n",
    "                str_t.append(j)\n",
    "        # print(str_s)\n",
    "        # print(str_t)\n",
    "        return str_s == str_t\n",
    "\n",
    "if __name__ == '__main__':\n",
    "    p = Solution()\n",
    "    print(p.backspaceCompare(S = \"y#fo##f\", T = \"y#f#o##f\"))\n",
    "\n",
    "    # \"y#fo##f\"\n",
    "    # \"y#f#o##f\""
   ]
  }
 ],
 "metadata": {
  "kernelspec": {
   "display_name": "Python 3",
   "language": "python",
   "name": "python3"
  },
  "language_info": {
   "codemirror_mode": {
    "name": "ipython",
    "version": 3
   },
   "file_extension": ".py",
   "mimetype": "text/x-python",
   "name": "python",
   "nbconvert_exporter": "python",
   "pygments_lexer": "ipython3",
   "version": "3.8.5"
  }
 },
 "nbformat": 4,
 "nbformat_minor": 4
}
