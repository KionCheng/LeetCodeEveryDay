{
 "cells": [
  {
   "cell_type": "markdown",
   "metadata": {
    "collapsed": true,
    "pycharm": {
     "name": "#%% md\n"
    }
   },
   "source": [
    "# 1544. 整理字符串\n",
    "给你一个由大小写英文字母组成的字符串 s 。\n",
    "一个整理好的字符串中，两个相邻字符 s[i] 和 s[i+1]，其中 0<= i <= s.length-2 ，要满足如下条件:\n",
    "\n",
    "若 s[i] 是小写字符，则 s[i+1] 不可以是相同的大写字符。\n",
    "若 s[i] 是大写字符，则 s[i+1] 不可以是相同的小写字符。\n",
    "请你将字符串整理好，每次你都可以从字符串中选出满足上述条件的 两个相邻 字符并删除，直到字符串整理好为止。\n",
    "请返回整理好的 字符串 。题目保证在给出的约束条件下，测试样例对应的答案是唯一的。\n",
    "注意：空字符串也属于整理好的字符串，尽管其中没有任何字符。\n",
    "\n",
    "\n"
   ]
  },
  {
   "cell_type": "code",
   "execution_count": 2,
   "metadata": {
    "pycharm": {
     "name": "#%%\n"
    }
   },
   "outputs": [
    {
     "name": "stdout",
     "output_type": "stream",
     "text": [
      "leed\n"
     ]
    }
   ],
   "source": [
    "# 想法一\n",
    "class Solution:\n",
    "    def makeGood(self, s: str) -> str:\n",
    "        after_str = ['?']\n",
    "        for i in s:\n",
    "            if i.islower() and after_str[-1] == i.upper():\n",
    "                after_str.pop()\n",
    "            elif i.isupper() and after_str[-1] == i.lower():\n",
    "                after_str.pop()\n",
    "            else:\n",
    "                after_str.append(i)\n",
    "                \n",
    "        after_str.pop(0)\n",
    "\n",
    "        return ''.join(after_str)\n",
    "\n",
    "if __name__ == '__main__':\n",
    "    p = Solution()\n",
    "    print(p.makeGood('leed'))\n",
    "\n",
    "\n",
    "\n",
    "\n"
   ]
  },
  {
   "cell_type": "code",
   "execution_count": 34,
   "metadata": {},
   "outputs": [
    {
     "name": "stdout",
     "output_type": "stream",
     "text": [
      "leed\n"
     ]
    }
   ],
   "source": [
    "# 想法二\n",
    "class Solution:\n",
    "    def makeGood(self, s: str) -> str:\n",
    "        stack = ['?']\n",
    "        for i in s:\n",
    "            if abs(ord(stack[-1]) - ord(i)) == 32:\n",
    "                stack.pop()\n",
    "            else:\n",
    "                stack.append(i)\n",
    "        stack.pop(0)\n",
    "        return ''.join(stack)\n",
    "if __name__ == '__main__':\n",
    "    p = Solution()\n",
    "    print(p.makeGood('leed'))"
   ]
  },
  {
   "cell_type": "code",
   "execution_count": null,
   "metadata": {},
   "outputs": [],
   "source": []
  }
 ],
 "metadata": {
  "kernelspec": {
   "display_name": "Python 3",
   "language": "python",
   "name": "python3"
  },
  "language_info": {
   "codemirror_mode": {
    "name": "ipython",
    "version": 3
   },
   "file_extension": ".py",
   "mimetype": "text/x-python",
   "name": "python",
   "nbconvert_exporter": "python",
   "pygments_lexer": "ipython3",
   "version": "3.8.5"
  }
 },
 "nbformat": 4,
 "nbformat_minor": 1
}