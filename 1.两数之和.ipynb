{
 "cells": [
  {
   "cell_type": "markdown",
   "metadata": {},
   "source": [
    "# 题目：\n",
    "定一个整数数组 nums 和一个整数目标值 target，请你在该数组中找出 和为目标值 的那 两个 整数，并返回它们的数组下标。\n",
    "你可以假设每种输入只会对应一个答案。但是，数组中同一个元素不能使用两遍。你可以按任意顺序返回答案。\n",
    "\n",
    "## 示例\n",
    "1：\n",
    "输入：nums = [2,7,11,15], target = 9\n",
    "输出：[0,1]\n",
    "解释：因为 nums[0] + nums[1] == 9 ，返回 [0, 1] 。\n",
    "\n",
    "2：\n",
    "输入：nums = [3,2,4], target = 6\n",
    "输出：[1,2]\n",
    "\n",
    "3：\n",
    "输入：nums = [3,3], target = 6\n",
    "输出：[0,1]\n",
    "\n",
    "## 提示：\n",
    "+ 2 <= nums.length <= 10^3\n",
    "+ -10^9 <= nums[i] <= 10^9\n",
    "+ -10^9 <= target <= 10^9\n",
    "+ 只会存在一个有效答案"
   ]
  },
  {
   "cell_type": "markdown",
   "metadata": {},
   "source": [
    "## 第一个想法：\n",
    "开一个长度为target的数组target_list，遍历list，对于list中的每一个元素num，将\n",
    "target_list[num] = num的下标，\n",
    "target_list[target-num] = -1\n",
    "If target_list[num] == -1\n",
    "Return [target_list[tagget-num],num的下标]"
   ]
  },
  {
   "cell_type": "code",
   "execution_count": 2,
   "metadata": {},
   "outputs": [
    {
     "name": "stdout",
     "output_type": "stream",
     "text": [
      "[-1, 1]\n"
     ]
    }
   ],
   "source": [
    "def twoSum(nums,target):\n",
    "    target_list = [-2]*target\n",
    "    for i,num in enumerate(nums):\n",
    "        if target_list[num] != -1:\n",
    "            target_list[num] = i\n",
    "            target_list[target - num] = -1\n",
    "        else:\n",
    "            print([target_list[target-num],i])\n",
    "\n",
    "if __name__ == '__main__':\n",
    "    nums = [3,3]\n",
    "    target = 6\n",
    "    twoSum(nums,target)"
   ]
  },
  {
   "cell_type": "markdown",
   "metadata": {},
   "source": [
    "### 不足总结:\n",
    "1. 只对正数有解，无法处理负数\n",
    "2. 无法处理重复数"
   ]
  },
  {
   "cell_type": "markdown",
   "metadata": {},
   "source": [
    "## 第二个想法：\n",
    "暴力破解法\n",
    "遍历数组，对于所有num，在剩余数组中寻找target-num是否存在"
   ]
  },
  {
   "cell_type": "code",
   "execution_count": 3,
   "metadata": {},
   "outputs": [
    {
     "name": "stdout",
     "output_type": "stream",
     "text": [
      "[1, 2]\n"
     ]
    }
   ],
   "source": [
    "class Solution:\n",
    "    def twoSum(self, nums, target):\n",
    "        n = len(nums)\n",
    "        for i in range(n):\n",
    "            for j in range(i+1,n):\n",
    "                if nums[j] + nums[i] == target:\n",
    "                    return [i,j]\n",
    "\n",
    "\n",
    "if __name__ == '__main__':\n",
    "    nums = [2,3,5,9]\n",
    "    target = 8\n",
    "    P = Solution()\n",
    "    result = P.twoSum(nums,target)\n",
    "    print(result)"
   ]
  },
  {
   "cell_type": "markdown",
   "metadata": {},
   "source": [
    "总结:\n",
    "1. 第一个能pass的代码！！！\n",
    "2. 时间复杂度过高"
   ]
  },
  {
   "cell_type": "markdown",
   "metadata": {},
   "source": [
    "## 第三个想法\n",
    "map:map是STL的一个关联容器，它提供一对一的hash。map內部的实现自建一颗红黑树，这颗树具有对数据自动排序的功能。"
   ]
  },
  {
   "cell_type": "code",
   "execution_count": 1,
   "metadata": {},
   "outputs": [
    {
     "name": "stdout",
     "output_type": "stream",
     "text": [
      "[1, 2]\n"
     ]
    }
   ],
   "source": [
    "class Solution:\n",
    "    def twoSum(self,nums,target):\n",
    "        hashmap = dict()\n",
    "        for i,num in enumerate(nums):\n",
    "            '''\n",
    "            错误写法：\n",
    "            hashmap[num] = i\n",
    "            if target - num in hashmap:\n",
    "                return [hashmap[target-num],i]\n",
    "            '''\n",
    "            \n",
    "            '''\n",
    "            正确写法：\n",
    "            '''\n",
    "            if target - num in hashmap:\n",
    "                return [hashmap[target-num],i]\n",
    "            hashmap[num] = i\n",
    "\n",
    "\n",
    "\n",
    "if __name__ == '__main__':\n",
    "    nums = [3,2,4]\n",
    "    target = 6\n",
    "    P = Solution()\n",
    "    result = P.twoSum(nums,target)\n",
    "    print(result)"
   ]
  },
  {
   "cell_type": "markdown",
   "metadata": {},
   "source": [
    "总结：\n",
    "1. 错误写法中，先写入字典在判断，结果导致当碰到如果num为targe的一半时报错。"
   ]
  },
  {
   "cell_type": "markdown",
   "metadata": {},
   "source": [
    "## 关于__init__的说明：\n",
    "\n",
    "定义类的时候，若是添加__init__方法，那么在创建类的实例的时候，实例会自动调用这个方法，一般用来对实例的属性进行初使化。比如：\n",
    "    \n",
    "    ```\n",
    "    class  TestClass:\n",
    "        def  __init__(self name gender):\n",
    "         定义 __init__方法，这里有三个参数，这个self指的是一会创建类的实例的时候这个被创建的实例本身（例中的testman），\n",
    "         也可以写成其他的东西，比如写成me也是可以的，这样的话下面的self.Name就要写成me.Name。\n",
    "             self.Name=name\n",
    "         通常会写成self.name=name，这里为了区分前后两个是不同的东西，把前面那个大写了，\n",
    "         等号左边的那个Name（或name）是实例的属性，后面那个是方法__init__的参数，两个是不同的）\n",
    "             self.Gender=gender\n",
    "             print(hello)\n",
    "         这个print(hello)是为了说明在创建类的实例的时候，__init__方法就立马被调用了。\n",
    "    \n",
    "    testman = TestClass(NeoMale)\n",
    "    ```\n",
    "    \n",
    "这里创建了类testClass的一个实例 testman 类中有__init__这个方法，\n",
    "在创建类的实例的时候，就必须要有和方法__init__匹配的参数了，\n",
    "由于self指的就是创建的实例本身，self是不用传入的，所以这里传入两个参数。\n",
    "这条语句一出来，实例testman的两个属性Name，Gender就被赋值初使化了，其中Name是 neo，Gender 是male。"
   ]
  },
  {
   "cell_type": "markdown",
   "metadata": {},
   "source": []
  }
 ],
 "metadata": {
  "kernelspec": {
   "display_name": "Python 3",
   "language": "python",
   "name": "python3"
  },
  "language_info": {
   "codemirror_mode": {
    "name": "ipython",
    "version": 3
   },
   "file_extension": ".py",
   "mimetype": "text/x-python",
   "name": "python",
   "nbconvert_exporter": "python",
   "pygments_lexer": "ipython3",
   "version": "3.8.3"
  }
 },
 "nbformat": 4,
 "nbformat_minor": 4
}
