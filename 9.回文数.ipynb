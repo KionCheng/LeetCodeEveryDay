{
 "cells": [
  {
   "cell_type": "markdown",
   "metadata": {},
   "source": [
    "# 9.回文数\n",
    "给你一个整数 x ，如果 x 是一个回文整数，返回 ture ；否则，返回 false 。\n",
    "回文数是指正序（从左向右）和倒序（从右向左）读都是一样的整数。例如，121 是回文，而 123 不是。"
   ]
  },
  {
   "cell_type": "code",
   "execution_count": 6,
   "metadata": {},
   "outputs": [
    {
     "name": "stdout",
     "output_type": "stream",
     "text": [
      "True\n"
     ]
    }
   ],
   "source": [
    "class Solution:\n",
    "    def isPalindrome(self, x: int) -> bool:\n",
    "        flag = True\n",
    "        if x < 0:\n",
    "            flag = False\n",
    "        else:\n",
    "            list_x = str(x)\n",
    "            len_x = len(list_x)\n",
    "            for i in range(len_x//2):\n",
    "                if list_x[i] == list_x[len_x - i - 1]:\n",
    "                    continue\n",
    "                else:\n",
    "                    flag = False\n",
    "        return flag\n",
    "    \n",
    "if __name__==\"__main__\":\n",
    "    P = Solution()\n",
    "    flag = P.isPalindrome(2)\n",
    "    print(flag)\n",
    "                "
   ]
  },
  {
   "cell_type": "markdown",
   "metadata": {},
   "source": [
    "总结：\n",
    "    EAZY！！！"
   ]
  },
  {
   "cell_type": "code",
   "execution_count": null,
   "metadata": {},
   "outputs": [],
   "source": []
  }
 ],
 "metadata": {
  "kernelspec": {
   "display_name": "Python 3",
   "language": "python",
   "name": "python3"
  },
  "language_info": {
   "codemirror_mode": {
    "name": "ipython",
    "version": 3
   },
   "file_extension": ".py",
   "mimetype": "text/x-python",
   "name": "python",
   "nbconvert_exporter": "python",
   "pygments_lexer": "ipython3",
   "version": "3.8.3"
  }
 },
 "nbformat": 4,
 "nbformat_minor": 4
}
