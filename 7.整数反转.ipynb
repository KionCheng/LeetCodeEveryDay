{
 "cells": [
  {
   "cell_type": "markdown",
   "metadata": {},
   "source": [
    "# 7.整数反转\n",
    "一个 32 位的有符号整数 x ，返回 x 中每位上的数字反转后的结果\n",
    "如果反转后整数超过 32 位的有符号整数的范围 [−23^1,  23^1 − 1] ，就返回 0。\n",
    "假设环境不允许存储 64 位整数（有符号或无符号）。"
   ]
  },
  {
   "cell_type": "markdown",
   "metadata": {},
   "source": [
    "## 第一个想法：\n",
    "    将整数数组化，再对数组做反转"
   ]
  },
  {
   "cell_type": "code",
   "execution_count": 36,
   "metadata": {},
   "outputs": [],
   "source": [
    "class Solution:\n",
    "    def reverse(self, x: int) -> int:\n",
    "        if x < 0:\n",
    "            str_x = str(x)\n",
    "            len_x = len(str_x)\n",
    "            x = -int(str_x[:-len_x:-1])\n",
    "        else:\n",
    "            str_x = str(x)\n",
    "            x = int(str_x[::-1])\n",
    "        if -2147483648 <= x <= 2147483647:\n",
    "            return x\n",
    "        else:\n",
    "            return 0\n",
    "        \n",
    "if __name__ == 'main':\n",
    "    P = Solution()\n",
    "    result = P.reverse(122222)\n",
    "    print(result)\n",
    "            \n",
    "# print(int('-00021')) #-21\n",
    "\n",
    "# print(list[:-len_x:-1]) #翻转第二位到最后一位\n"
   ]
  },
  {
   "cell_type": "markdown",
   "metadata": {},
   "source": [
    "总结：\n",
    "    性能hin差啊！对于一些可以直接筛选出去的值，它并没有很好地进行分类，而是草草的执行了代码。"
   ]
  },
  {
   "cell_type": "markdown",
   "metadata": {},
   "source": [
    "### 优化"
   ]
  },
  {
   "cell_type": "code",
   "execution_count": null,
   "metadata": {},
   "outputs": [],
   "source": [
    "class Solution:\n",
    "    def reverse(self, x: int) -> int:\n",
    "        if x > 0:\n",
    "            result = int(str(x)[::-1])\n",
    "        else:\n",
    "            result = int((str(-x)+'-')[::-1])\n",
    "        return result if -2 ** 31 < result < 2 ** 31 - 1 else 0"
   ]
  },
  {
   "cell_type": "markdown",
   "metadata": {},
   "source": [
    "总结：\n",
    "    提升了整整4ms！WOW！！！"
   ]
  },
  {
   "cell_type": "markdown",
   "metadata": {},
   "source": [
    "## 抄来的想法"
   ]
  },
  {
   "cell_type": "code",
   "execution_count": null,
   "metadata": {},
   "outputs": [],
   "source": [
    "class Solution:\n",
    "    def reverse(self, x: int) -> int:\n",
    "        a = 0\n",
    "        while x!=0:\n",
    "            if x>0:\n",
    "                a=a*10+x%10\n",
    "                x = x//10\n",
    "            else:\n",
    "                a=a*10+x%-10\n",
    "                x = -(x//-10)\n",
    "        return a if-2**31<a<2**31-1 else 0"
   ]
  },
  {
   "cell_type": "markdown",
   "metadata": {},
   "source": [
    "### 优化"
   ]
  },
  {
   "cell_type": "code",
   "execution_count": null,
   "metadata": {},
   "outputs": [],
   "source": [
    "class Solution:\n",
    "    def reverse(self, x: int) -> int:     \n",
    "        y, res = abs(x), 0\n",
    "        # 则其数值范围为 [−2^31,  2^31 − 1]\n",
    "        boundry = (1<<31) -1 if x > 0 else 1<<31\n",
    "        while y != 0:\n",
    "            res = res*10 +y%10\n",
    "            if res > boundry :\n",
    "                return 0\n",
    "            y //= 10\n",
    "        return res if x > 0 else -res"
   ]
  }
 ],
 "metadata": {
  "kernelspec": {
   "display_name": "Python 3",
   "language": "python",
   "name": "python3"
  },
  "language_info": {
   "codemirror_mode": {
    "name": "ipython",
    "version": 3
   },
   "file_extension": ".py",
   "mimetype": "text/x-python",
   "name": "python",
   "nbconvert_exporter": "python",
   "pygments_lexer": "ipython3",
   "version": "3.8.3"
  }
 },
 "nbformat": 4,
 "nbformat_minor": 4
}
